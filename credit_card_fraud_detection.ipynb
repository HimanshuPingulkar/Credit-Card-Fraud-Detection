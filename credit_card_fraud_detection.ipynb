{
  "nbformat": 4,
  "nbformat_minor": 0,
  "metadata": {
    "colab": {
      "name": "credit-card-fraud-detection.ipynb",
      "provenance": [],
      "collapsed_sections": []
    },
    "kernelspec": {
      "name": "python3",
      "display_name": "Python 3"
    }
  },
  "cells": [
    {
      "cell_type": "markdown",
      "metadata": {
        "id": "gUBXqgJQjftm",
        "colab_type": "text"
      },
      "source": [
        "# **CREDIT CARD FRAUD DETECTION**"
      ]
    },
    {
      "cell_type": "markdown",
      "metadata": {
        "id": "QDsTdHQTj0-N",
        "colab_type": "text"
      },
      "source": [
        "\n",
        "\n",
        "---\n",
        "\n",
        "> IMPORTING REQUIRED LIBRARIES\n",
        "\n",
        "---\n",
        "\n"
      ]
    },
    {
      "cell_type": "code",
      "metadata": {
        "id": "UgZNNa56vwgr",
        "colab_type": "code",
        "outputId": "2592a0e5-0222-4b4b-a1eb-2ccba6110290",
        "colab": {
          "base_uri": "https://localhost:8080/",
          "height": 72
        }
      },
      "source": [
        "import pandas as pd\n",
        "import numpy as np\n",
        "import itertools\n",
        "import time\n",
        "\n",
        "from sklearn.preprocessing import StandardScaler, RobustScaler\n",
        "from sklearn.model_selection import train_test_split, cross_val_score, KFold, StratifiedKFold, GridSearchCV\n",
        "from sklearn.metrics import confusion_matrix, precision_score, recall_score, f1_score, roc_auc_score, accuracy_score, classification_report\n",
        "\n",
        "from sklearn.linear_model import LogisticRegression\n",
        "from sklearn.ensemble import RandomForestClassifier, AdaBoostClassifier\n",
        "from sklearn.tree import DecisionTreeClassifier\n",
        "from sklearn.neural_network import MLPClassifier\n",
        "from sklearn.neighbors import KNeighborsClassifier\n",
        "from sklearn.svm import SVC\n",
        "from xgboost import XGBClassifier\n",
        "\n",
        "import seaborn as sns\n",
        "import matplotlib.pyplot as plt\n",
        "%matplotlib inline\n",
        "\n",
        "import warnings \n",
        "warnings.simplefilter('ignore')"
      ],
      "execution_count": 1,
      "outputs": [
        {
          "output_type": "stream",
          "text": [
            "/usr/local/lib/python3.6/dist-packages/statsmodels/tools/_testing.py:19: FutureWarning: pandas.util.testing is deprecated. Use the functions in the public API at pandas.testing instead.\n",
            "  import pandas.util.testing as tm\n"
          ],
          "name": "stderr"
        }
      ]
    },
    {
      "cell_type": "markdown",
      "metadata": {
        "id": "G9gQfPopkOOB",
        "colab_type": "text"
      },
      "source": [
        "\n",
        "\n",
        "---\n",
        "\n",
        "> LOAD IN THE DATASET\n",
        "\n",
        "---\n",
        "\n"
      ]
    },
    {
      "cell_type": "code",
      "metadata": {
        "id": "ZmnMqEgX9Fsg",
        "colab_type": "code",
        "outputId": "d013684b-c9fe-4de3-a5c6-8db8f72a9823",
        "colab": {
          "base_uri": "https://localhost:8080/",
          "height": 218
        }
      },
      "source": [
        "data = pd.read_csv('creditcard.csv')\n",
        "data.head()"
      ],
      "execution_count": 2,
      "outputs": [
        {
          "output_type": "execute_result",
          "data": {
            "text/html": [
              "<div>\n",
              "<style scoped>\n",
              "    .dataframe tbody tr th:only-of-type {\n",
              "        vertical-align: middle;\n",
              "    }\n",
              "\n",
              "    .dataframe tbody tr th {\n",
              "        vertical-align: top;\n",
              "    }\n",
              "\n",
              "    .dataframe thead th {\n",
              "        text-align: right;\n",
              "    }\n",
              "</style>\n",
              "<table border=\"1\" class=\"dataframe\">\n",
              "  <thead>\n",
              "    <tr style=\"text-align: right;\">\n",
              "      <th></th>\n",
              "      <th>Time</th>\n",
              "      <th>V1</th>\n",
              "      <th>V2</th>\n",
              "      <th>V3</th>\n",
              "      <th>V4</th>\n",
              "      <th>V5</th>\n",
              "      <th>V6</th>\n",
              "      <th>V7</th>\n",
              "      <th>V8</th>\n",
              "      <th>V9</th>\n",
              "      <th>V10</th>\n",
              "      <th>V11</th>\n",
              "      <th>V12</th>\n",
              "      <th>V13</th>\n",
              "      <th>V14</th>\n",
              "      <th>V15</th>\n",
              "      <th>V16</th>\n",
              "      <th>V17</th>\n",
              "      <th>V18</th>\n",
              "      <th>V19</th>\n",
              "      <th>V20</th>\n",
              "      <th>V21</th>\n",
              "      <th>V22</th>\n",
              "      <th>V23</th>\n",
              "      <th>V24</th>\n",
              "      <th>V25</th>\n",
              "      <th>V26</th>\n",
              "      <th>V27</th>\n",
              "      <th>V28</th>\n",
              "      <th>Amount</th>\n",
              "      <th>Class</th>\n",
              "    </tr>\n",
              "  </thead>\n",
              "  <tbody>\n",
              "    <tr>\n",
              "      <th>0</th>\n",
              "      <td>0</td>\n",
              "      <td>-1.359807</td>\n",
              "      <td>-0.072781</td>\n",
              "      <td>2.536347</td>\n",
              "      <td>1.378155</td>\n",
              "      <td>-0.338321</td>\n",
              "      <td>0.462388</td>\n",
              "      <td>0.239599</td>\n",
              "      <td>0.098698</td>\n",
              "      <td>0.363787</td>\n",
              "      <td>0.090794</td>\n",
              "      <td>-0.551600</td>\n",
              "      <td>-0.617801</td>\n",
              "      <td>-0.991390</td>\n",
              "      <td>-0.311169</td>\n",
              "      <td>1.468177</td>\n",
              "      <td>-0.470401</td>\n",
              "      <td>0.207971</td>\n",
              "      <td>0.025791</td>\n",
              "      <td>0.403993</td>\n",
              "      <td>0.251412</td>\n",
              "      <td>-0.018307</td>\n",
              "      <td>0.277838</td>\n",
              "      <td>-0.110474</td>\n",
              "      <td>0.066928</td>\n",
              "      <td>0.128539</td>\n",
              "      <td>-0.189115</td>\n",
              "      <td>0.133558</td>\n",
              "      <td>-0.021053</td>\n",
              "      <td>149.62</td>\n",
              "      <td>0.0</td>\n",
              "    </tr>\n",
              "    <tr>\n",
              "      <th>1</th>\n",
              "      <td>0</td>\n",
              "      <td>1.191857</td>\n",
              "      <td>0.266151</td>\n",
              "      <td>0.166480</td>\n",
              "      <td>0.448154</td>\n",
              "      <td>0.060018</td>\n",
              "      <td>-0.082361</td>\n",
              "      <td>-0.078803</td>\n",
              "      <td>0.085102</td>\n",
              "      <td>-0.255425</td>\n",
              "      <td>-0.166974</td>\n",
              "      <td>1.612727</td>\n",
              "      <td>1.065235</td>\n",
              "      <td>0.489095</td>\n",
              "      <td>-0.143772</td>\n",
              "      <td>0.635558</td>\n",
              "      <td>0.463917</td>\n",
              "      <td>-0.114805</td>\n",
              "      <td>-0.183361</td>\n",
              "      <td>-0.145783</td>\n",
              "      <td>-0.069083</td>\n",
              "      <td>-0.225775</td>\n",
              "      <td>-0.638672</td>\n",
              "      <td>0.101288</td>\n",
              "      <td>-0.339846</td>\n",
              "      <td>0.167170</td>\n",
              "      <td>0.125895</td>\n",
              "      <td>-0.008983</td>\n",
              "      <td>0.014724</td>\n",
              "      <td>2.69</td>\n",
              "      <td>0.0</td>\n",
              "    </tr>\n",
              "    <tr>\n",
              "      <th>2</th>\n",
              "      <td>1</td>\n",
              "      <td>-1.358354</td>\n",
              "      <td>-1.340163</td>\n",
              "      <td>1.773209</td>\n",
              "      <td>0.379780</td>\n",
              "      <td>-0.503198</td>\n",
              "      <td>1.800499</td>\n",
              "      <td>0.791461</td>\n",
              "      <td>0.247676</td>\n",
              "      <td>-1.514654</td>\n",
              "      <td>0.207643</td>\n",
              "      <td>0.624501</td>\n",
              "      <td>0.066084</td>\n",
              "      <td>0.717293</td>\n",
              "      <td>-0.165946</td>\n",
              "      <td>2.345865</td>\n",
              "      <td>-2.890083</td>\n",
              "      <td>1.109969</td>\n",
              "      <td>-0.121359</td>\n",
              "      <td>-2.261857</td>\n",
              "      <td>0.524980</td>\n",
              "      <td>0.247998</td>\n",
              "      <td>0.771679</td>\n",
              "      <td>0.909412</td>\n",
              "      <td>-0.689281</td>\n",
              "      <td>-0.327642</td>\n",
              "      <td>-0.139097</td>\n",
              "      <td>-0.055353</td>\n",
              "      <td>-0.059752</td>\n",
              "      <td>378.66</td>\n",
              "      <td>0.0</td>\n",
              "    </tr>\n",
              "    <tr>\n",
              "      <th>3</th>\n",
              "      <td>1</td>\n",
              "      <td>-0.966272</td>\n",
              "      <td>-0.185226</td>\n",
              "      <td>1.792993</td>\n",
              "      <td>-0.863291</td>\n",
              "      <td>-0.010309</td>\n",
              "      <td>1.247203</td>\n",
              "      <td>0.237609</td>\n",
              "      <td>0.377436</td>\n",
              "      <td>-1.387024</td>\n",
              "      <td>-0.054952</td>\n",
              "      <td>-0.226487</td>\n",
              "      <td>0.178228</td>\n",
              "      <td>0.507757</td>\n",
              "      <td>-0.287924</td>\n",
              "      <td>-0.631418</td>\n",
              "      <td>-1.059647</td>\n",
              "      <td>-0.684093</td>\n",
              "      <td>1.965775</td>\n",
              "      <td>-1.232622</td>\n",
              "      <td>-0.208038</td>\n",
              "      <td>-0.108300</td>\n",
              "      <td>0.005274</td>\n",
              "      <td>-0.190321</td>\n",
              "      <td>-1.175575</td>\n",
              "      <td>0.647376</td>\n",
              "      <td>-0.221929</td>\n",
              "      <td>0.062723</td>\n",
              "      <td>0.061458</td>\n",
              "      <td>123.50</td>\n",
              "      <td>0.0</td>\n",
              "    </tr>\n",
              "    <tr>\n",
              "      <th>4</th>\n",
              "      <td>2</td>\n",
              "      <td>-1.158233</td>\n",
              "      <td>0.877737</td>\n",
              "      <td>1.548718</td>\n",
              "      <td>0.403034</td>\n",
              "      <td>-0.407193</td>\n",
              "      <td>0.095921</td>\n",
              "      <td>0.592941</td>\n",
              "      <td>-0.270533</td>\n",
              "      <td>0.817739</td>\n",
              "      <td>0.753074</td>\n",
              "      <td>-0.822843</td>\n",
              "      <td>0.538196</td>\n",
              "      <td>1.345852</td>\n",
              "      <td>-1.119670</td>\n",
              "      <td>0.175121</td>\n",
              "      <td>-0.451449</td>\n",
              "      <td>-0.237033</td>\n",
              "      <td>-0.038195</td>\n",
              "      <td>0.803487</td>\n",
              "      <td>0.408542</td>\n",
              "      <td>-0.009431</td>\n",
              "      <td>0.798278</td>\n",
              "      <td>-0.137458</td>\n",
              "      <td>0.141267</td>\n",
              "      <td>-0.206010</td>\n",
              "      <td>0.502292</td>\n",
              "      <td>0.219422</td>\n",
              "      <td>0.215153</td>\n",
              "      <td>69.99</td>\n",
              "      <td>0.0</td>\n",
              "    </tr>\n",
              "  </tbody>\n",
              "</table>\n",
              "</div>"
            ],
            "text/plain": [
              "   Time        V1        V2        V3  ...       V27       V28  Amount  Class\n",
              "0     0 -1.359807 -0.072781  2.536347  ...  0.133558 -0.021053  149.62    0.0\n",
              "1     0  1.191857  0.266151  0.166480  ... -0.008983  0.014724    2.69    0.0\n",
              "2     1 -1.358354 -1.340163  1.773209  ... -0.055353 -0.059752  378.66    0.0\n",
              "3     1 -0.966272 -0.185226  1.792993  ...  0.062723  0.061458  123.50    0.0\n",
              "4     2 -1.158233  0.877737  1.548718  ...  0.219422  0.215153   69.99    0.0\n",
              "\n",
              "[5 rows x 31 columns]"
            ]
          },
          "metadata": {
            "tags": []
          },
          "execution_count": 2
        }
      ]
    },
    {
      "cell_type": "markdown",
      "metadata": {
        "id": "zUQnyYpAl-Pr",
        "colab_type": "text"
      },
      "source": [
        "\n",
        "\n",
        "---\n",
        "\n",
        "> EXPLORATORY DATA ANALYSIS\n",
        "\n",
        "---\n",
        "\n"
      ]
    },
    {
      "cell_type": "code",
      "metadata": {
        "id": "wWHH9ztbkT9s",
        "colab_type": "code",
        "outputId": "027951b6-b860-48ac-db07-72ca3d63cef5",
        "colab": {
          "base_uri": "https://localhost:8080/",
          "height": 34
        }
      },
      "source": [
        "# Find the rows and columns size\n",
        "data.shape"
      ],
      "execution_count": 3,
      "outputs": [
        {
          "output_type": "execute_result",
          "data": {
            "text/plain": [
              "(93181, 31)"
            ]
          },
          "metadata": {
            "tags": []
          },
          "execution_count": 3
        }
      ]
    },
    {
      "cell_type": "code",
      "metadata": {
        "id": "7xqhbZfUkbHB",
        "colab_type": "code",
        "outputId": "757ff2aa-3117-4df2-977a-68acc8e69ad0",
        "colab": {
          "base_uri": "https://localhost:8080/",
          "height": 104
        }
      },
      "source": [
        "# Columns present for the dataset\n",
        "data.columns"
      ],
      "execution_count": 4,
      "outputs": [
        {
          "output_type": "execute_result",
          "data": {
            "text/plain": [
              "Index(['Time', 'V1', 'V2', 'V3', 'V4', 'V5', 'V6', 'V7', 'V8', 'V9', 'V10',\n",
              "       'V11', 'V12', 'V13', 'V14', 'V15', 'V16', 'V17', 'V18', 'V19', 'V20',\n",
              "       'V21', 'V22', 'V23', 'V24', 'V25', 'V26', 'V27', 'V28', 'Amount',\n",
              "       'Class'],\n",
              "      dtype='object')"
            ]
          },
          "metadata": {
            "tags": []
          },
          "execution_count": 4
        }
      ]
    },
    {
      "cell_type": "code",
      "metadata": {
        "id": "OZg-1pkqkeV3",
        "colab_type": "code",
        "outputId": "588fcfbc-b218-4e66-e80b-d8c65ea644bf",
        "colab": {
          "base_uri": "https://localhost:8080/",
          "height": 570
        }
      },
      "source": [
        "# Checking the datatypes of attributes\n",
        "data.dtypes"
      ],
      "execution_count": 5,
      "outputs": [
        {
          "output_type": "execute_result",
          "data": {
            "text/plain": [
              "Time        int64\n",
              "V1        float64\n",
              "V2        float64\n",
              "V3        float64\n",
              "V4        float64\n",
              "V5        float64\n",
              "V6        float64\n",
              "V7        float64\n",
              "V8        float64\n",
              "V9        float64\n",
              "V10       float64\n",
              "V11       float64\n",
              "V12       float64\n",
              "V13       float64\n",
              "V14       float64\n",
              "V15       float64\n",
              "V16       float64\n",
              "V17       float64\n",
              "V18       float64\n",
              "V19       float64\n",
              "V20       float64\n",
              "V21       float64\n",
              "V22       float64\n",
              "V23       float64\n",
              "V24       float64\n",
              "V25       float64\n",
              "V26       float64\n",
              "V27       float64\n",
              "V28       float64\n",
              "Amount    float64\n",
              "Class     float64\n",
              "dtype: object"
            ]
          },
          "metadata": {
            "tags": []
          },
          "execution_count": 5
        }
      ]
    },
    {
      "cell_type": "code",
      "metadata": {
        "id": "H3-ohWeckjrO",
        "colab_type": "code",
        "outputId": "fb4469c2-4f27-4fec-a39b-c6e3055e9eb8",
        "colab": {
          "base_uri": "https://localhost:8080/",
          "height": 308
        }
      },
      "source": [
        "# Summary of the attributes\n",
        "data.describe(include='all')"
      ],
      "execution_count": 6,
      "outputs": [
        {
          "output_type": "execute_result",
          "data": {
            "text/html": [
              "<div>\n",
              "<style scoped>\n",
              "    .dataframe tbody tr th:only-of-type {\n",
              "        vertical-align: middle;\n",
              "    }\n",
              "\n",
              "    .dataframe tbody tr th {\n",
              "        vertical-align: top;\n",
              "    }\n",
              "\n",
              "    .dataframe thead th {\n",
              "        text-align: right;\n",
              "    }\n",
              "</style>\n",
              "<table border=\"1\" class=\"dataframe\">\n",
              "  <thead>\n",
              "    <tr style=\"text-align: right;\">\n",
              "      <th></th>\n",
              "      <th>Time</th>\n",
              "      <th>V1</th>\n",
              "      <th>V2</th>\n",
              "      <th>V3</th>\n",
              "      <th>V4</th>\n",
              "      <th>V5</th>\n",
              "      <th>V6</th>\n",
              "      <th>V7</th>\n",
              "      <th>V8</th>\n",
              "      <th>V9</th>\n",
              "      <th>V10</th>\n",
              "      <th>V11</th>\n",
              "      <th>V12</th>\n",
              "      <th>V13</th>\n",
              "      <th>V14</th>\n",
              "      <th>V15</th>\n",
              "      <th>V16</th>\n",
              "      <th>V17</th>\n",
              "      <th>V18</th>\n",
              "      <th>V19</th>\n",
              "      <th>V20</th>\n",
              "      <th>V21</th>\n",
              "      <th>V22</th>\n",
              "      <th>V23</th>\n",
              "      <th>V24</th>\n",
              "      <th>V25</th>\n",
              "      <th>V26</th>\n",
              "      <th>V27</th>\n",
              "      <th>V28</th>\n",
              "      <th>Amount</th>\n",
              "      <th>Class</th>\n",
              "    </tr>\n",
              "  </thead>\n",
              "  <tbody>\n",
              "    <tr>\n",
              "      <th>count</th>\n",
              "      <td>93181.000000</td>\n",
              "      <td>93181.000000</td>\n",
              "      <td>93181.000000</td>\n",
              "      <td>93181.000000</td>\n",
              "      <td>93181.000000</td>\n",
              "      <td>93181.000000</td>\n",
              "      <td>93181.000000</td>\n",
              "      <td>93181.000000</td>\n",
              "      <td>93181.000000</td>\n",
              "      <td>93181.000000</td>\n",
              "      <td>93181.000000</td>\n",
              "      <td>93181.000000</td>\n",
              "      <td>93181.000000</td>\n",
              "      <td>93180.000000</td>\n",
              "      <td>93180.000000</td>\n",
              "      <td>93180.000000</td>\n",
              "      <td>93180.000000</td>\n",
              "      <td>93180.000000</td>\n",
              "      <td>93180.000000</td>\n",
              "      <td>93180.000000</td>\n",
              "      <td>93180.000000</td>\n",
              "      <td>93180.000000</td>\n",
              "      <td>93180.000000</td>\n",
              "      <td>93180.000000</td>\n",
              "      <td>93180.000000</td>\n",
              "      <td>93180.000000</td>\n",
              "      <td>93180.000000</td>\n",
              "      <td>93180.000000</td>\n",
              "      <td>93180.000000</td>\n",
              "      <td>93180.000000</td>\n",
              "      <td>93180.000000</td>\n",
              "    </tr>\n",
              "    <tr>\n",
              "      <th>mean</th>\n",
              "      <td>40720.460405</td>\n",
              "      <td>-0.263002</td>\n",
              "      <td>-0.040780</td>\n",
              "      <td>0.676306</td>\n",
              "      <td>0.163064</td>\n",
              "      <td>-0.280078</td>\n",
              "      <td>0.093917</td>\n",
              "      <td>-0.108816</td>\n",
              "      <td>0.055540</td>\n",
              "      <td>-0.036898</td>\n",
              "      <td>-0.028962</td>\n",
              "      <td>0.259526</td>\n",
              "      <td>-0.087473</td>\n",
              "      <td>0.017106</td>\n",
              "      <td>0.069295</td>\n",
              "      <td>0.186970</td>\n",
              "      <td>-0.008020</td>\n",
              "      <td>0.063163</td>\n",
              "      <td>-0.094407</td>\n",
              "      <td>-0.023654</td>\n",
              "      <td>0.043406</td>\n",
              "      <td>-0.029999</td>\n",
              "      <td>-0.107373</td>\n",
              "      <td>-0.037835</td>\n",
              "      <td>0.009540</td>\n",
              "      <td>0.132163</td>\n",
              "      <td>0.026936</td>\n",
              "      <td>0.001515</td>\n",
              "      <td>0.002321</td>\n",
              "      <td>99.030945</td>\n",
              "      <td>0.002286</td>\n",
              "    </tr>\n",
              "    <tr>\n",
              "      <th>std</th>\n",
              "      <td>16392.444505</td>\n",
              "      <td>1.869011</td>\n",
              "      <td>1.664308</td>\n",
              "      <td>1.341575</td>\n",
              "      <td>1.355105</td>\n",
              "      <td>1.368687</td>\n",
              "      <td>1.303615</td>\n",
              "      <td>1.225238</td>\n",
              "      <td>1.209672</td>\n",
              "      <td>1.123318</td>\n",
              "      <td>1.061228</td>\n",
              "      <td>1.070547</td>\n",
              "      <td>1.134191</td>\n",
              "      <td>1.045430</td>\n",
              "      <td>0.975574</td>\n",
              "      <td>0.930851</td>\n",
              "      <td>0.904213</td>\n",
              "      <td>0.957231</td>\n",
              "      <td>0.850367</td>\n",
              "      <td>0.818650</td>\n",
              "      <td>0.766201</td>\n",
              "      <td>0.723135</td>\n",
              "      <td>0.634840</td>\n",
              "      <td>0.640783</td>\n",
              "      <td>0.594557</td>\n",
              "      <td>0.442183</td>\n",
              "      <td>0.495719</td>\n",
              "      <td>0.389447</td>\n",
              "      <td>0.324150</td>\n",
              "      <td>268.350415</td>\n",
              "      <td>0.047757</td>\n",
              "    </tr>\n",
              "    <tr>\n",
              "      <th>min</th>\n",
              "      <td>0.000000</td>\n",
              "      <td>-56.407510</td>\n",
              "      <td>-72.715728</td>\n",
              "      <td>-33.680984</td>\n",
              "      <td>-5.172595</td>\n",
              "      <td>-42.147898</td>\n",
              "      <td>-26.160506</td>\n",
              "      <td>-31.764946</td>\n",
              "      <td>-73.216718</td>\n",
              "      <td>-9.283925</td>\n",
              "      <td>-18.271168</td>\n",
              "      <td>-4.049895</td>\n",
              "      <td>-17.769143</td>\n",
              "      <td>-5.791881</td>\n",
              "      <td>-19.214325</td>\n",
              "      <td>-4.152532</td>\n",
              "      <td>-13.563273</td>\n",
              "      <td>-25.162799</td>\n",
              "      <td>-9.498746</td>\n",
              "      <td>-7.213527</td>\n",
              "      <td>-21.024817</td>\n",
              "      <td>-34.830382</td>\n",
              "      <td>-10.933144</td>\n",
              "      <td>-44.807735</td>\n",
              "      <td>-2.836627</td>\n",
              "      <td>-10.295397</td>\n",
              "      <td>-2.534330</td>\n",
              "      <td>-9.390980</td>\n",
              "      <td>-9.617915</td>\n",
              "      <td>0.000000</td>\n",
              "      <td>0.000000</td>\n",
              "    </tr>\n",
              "    <tr>\n",
              "      <th>25%</th>\n",
              "      <td>32678.000000</td>\n",
              "      <td>-1.028016</td>\n",
              "      <td>-0.605706</td>\n",
              "      <td>0.179018</td>\n",
              "      <td>-0.716783</td>\n",
              "      <td>-0.898708</td>\n",
              "      <td>-0.647692</td>\n",
              "      <td>-0.600859</td>\n",
              "      <td>-0.139122</td>\n",
              "      <td>-0.695859</td>\n",
              "      <td>-0.499901</td>\n",
              "      <td>-0.516607</td>\n",
              "      <td>-0.510131</td>\n",
              "      <td>-0.672454</td>\n",
              "      <td>-0.330117</td>\n",
              "      <td>-0.366028</td>\n",
              "      <td>-0.483283</td>\n",
              "      <td>-0.397673</td>\n",
              "      <td>-0.566361</td>\n",
              "      <td>-0.518500</td>\n",
              "      <td>-0.169329</td>\n",
              "      <td>-0.224205</td>\n",
              "      <td>-0.528068</td>\n",
              "      <td>-0.177280</td>\n",
              "      <td>-0.322364</td>\n",
              "      <td>-0.132298</td>\n",
              "      <td>-0.325627</td>\n",
              "      <td>-0.062925</td>\n",
              "      <td>-0.005614</td>\n",
              "      <td>7.600000</td>\n",
              "      <td>0.000000</td>\n",
              "    </tr>\n",
              "    <tr>\n",
              "      <th>50%</th>\n",
              "      <td>42848.000000</td>\n",
              "      <td>-0.258489</td>\n",
              "      <td>0.072818</td>\n",
              "      <td>0.756532</td>\n",
              "      <td>0.189117</td>\n",
              "      <td>-0.314928</td>\n",
              "      <td>-0.156536</td>\n",
              "      <td>-0.069893</td>\n",
              "      <td>0.072409</td>\n",
              "      <td>-0.109294</td>\n",
              "      <td>-0.095218</td>\n",
              "      <td>0.191960</td>\n",
              "      <td>0.100958</td>\n",
              "      <td>-0.000652</td>\n",
              "      <td>0.083341</td>\n",
              "      <td>0.291392</td>\n",
              "      <td>0.065516</td>\n",
              "      <td>0.004842</td>\n",
              "      <td>-0.087449</td>\n",
              "      <td>-0.027331</td>\n",
              "      <td>-0.024857</td>\n",
              "      <td>-0.057606</td>\n",
              "      <td>-0.082454</td>\n",
              "      <td>-0.049500</td>\n",
              "      <td>0.064890</td>\n",
              "      <td>0.170764</td>\n",
              "      <td>-0.070610</td>\n",
              "      <td>0.009579</td>\n",
              "      <td>0.023267</td>\n",
              "      <td>26.945000</td>\n",
              "      <td>0.000000</td>\n",
              "    </tr>\n",
              "    <tr>\n",
              "      <th>75%</th>\n",
              "      <td>53622.000000</td>\n",
              "      <td>1.153021</td>\n",
              "      <td>0.728656</td>\n",
              "      <td>1.381324</td>\n",
              "      <td>1.034477</td>\n",
              "      <td>0.250915</td>\n",
              "      <td>0.487658</td>\n",
              "      <td>0.415870</td>\n",
              "      <td>0.357253</td>\n",
              "      <td>0.576494</td>\n",
              "      <td>0.439437</td>\n",
              "      <td>1.072675</td>\n",
              "      <td>0.617324</td>\n",
              "      <td>0.696919</td>\n",
              "      <td>0.500671</td>\n",
              "      <td>0.859559</td>\n",
              "      <td>0.539365</td>\n",
              "      <td>0.464414</td>\n",
              "      <td>0.388992</td>\n",
              "      <td>0.480079</td>\n",
              "      <td>0.171162</td>\n",
              "      <td>0.119664</td>\n",
              "      <td>0.309217</td>\n",
              "      <td>0.081457</td>\n",
              "      <td>0.406029</td>\n",
              "      <td>0.420096</td>\n",
              "      <td>0.304235</td>\n",
              "      <td>0.082701</td>\n",
              "      <td>0.076475</td>\n",
              "      <td>89.990000</td>\n",
              "      <td>0.000000</td>\n",
              "    </tr>\n",
              "    <tr>\n",
              "      <th>max</th>\n",
              "      <td>64283.000000</td>\n",
              "      <td>1.960497</td>\n",
              "      <td>18.902453</td>\n",
              "      <td>4.226108</td>\n",
              "      <td>16.715537</td>\n",
              "      <td>34.801666</td>\n",
              "      <td>22.529298</td>\n",
              "      <td>36.677268</td>\n",
              "      <td>20.007208</td>\n",
              "      <td>10.392889</td>\n",
              "      <td>13.198226</td>\n",
              "      <td>12.018913</td>\n",
              "      <td>7.848392</td>\n",
              "      <td>4.465413</td>\n",
              "      <td>10.526766</td>\n",
              "      <td>5.784514</td>\n",
              "      <td>6.098529</td>\n",
              "      <td>9.253526</td>\n",
              "      <td>5.041069</td>\n",
              "      <td>5.228342</td>\n",
              "      <td>39.420904</td>\n",
              "      <td>22.614889</td>\n",
              "      <td>10.503090</td>\n",
              "      <td>18.946734</td>\n",
              "      <td>4.014444</td>\n",
              "      <td>5.541598</td>\n",
              "      <td>3.517346</td>\n",
              "      <td>12.152401</td>\n",
              "      <td>33.847808</td>\n",
              "      <td>19656.530000</td>\n",
              "      <td>1.000000</td>\n",
              "    </tr>\n",
              "  </tbody>\n",
              "</table>\n",
              "</div>"
            ],
            "text/plain": [
              "               Time            V1  ...        Amount         Class\n",
              "count  93181.000000  93181.000000  ...  93180.000000  93180.000000\n",
              "mean   40720.460405     -0.263002  ...     99.030945      0.002286\n",
              "std    16392.444505      1.869011  ...    268.350415      0.047757\n",
              "min        0.000000    -56.407510  ...      0.000000      0.000000\n",
              "25%    32678.000000     -1.028016  ...      7.600000      0.000000\n",
              "50%    42848.000000     -0.258489  ...     26.945000      0.000000\n",
              "75%    53622.000000      1.153021  ...     89.990000      0.000000\n",
              "max    64283.000000      1.960497  ...  19656.530000      1.000000\n",
              "\n",
              "[8 rows x 31 columns]"
            ]
          },
          "metadata": {
            "tags": []
          },
          "execution_count": 6
        }
      ]
    },
    {
      "cell_type": "code",
      "metadata": {
        "id": "3CfRZ1a2kj8A",
        "colab_type": "code",
        "outputId": "3d98b94a-e35a-4aad-d956-3449365a738e",
        "colab": {
          "base_uri": "https://localhost:8080/",
          "height": 570
        }
      },
      "source": [
        "# Checking for null values\n",
        "data.isnull().sum()"
      ],
      "execution_count": 7,
      "outputs": [
        {
          "output_type": "execute_result",
          "data": {
            "text/plain": [
              "Time      0\n",
              "V1        0\n",
              "V2        0\n",
              "V3        0\n",
              "V4        0\n",
              "V5        0\n",
              "V6        0\n",
              "V7        0\n",
              "V8        0\n",
              "V9        0\n",
              "V10       0\n",
              "V11       0\n",
              "V12       0\n",
              "V13       1\n",
              "V14       1\n",
              "V15       1\n",
              "V16       1\n",
              "V17       1\n",
              "V18       1\n",
              "V19       1\n",
              "V20       1\n",
              "V21       1\n",
              "V22       1\n",
              "V23       1\n",
              "V24       1\n",
              "V25       1\n",
              "V26       1\n",
              "V27       1\n",
              "V28       1\n",
              "Amount    1\n",
              "Class     1\n",
              "dtype: int64"
            ]
          },
          "metadata": {
            "tags": []
          },
          "execution_count": 7
        }
      ]
    },
    {
      "cell_type": "code",
      "metadata": {
        "id": "WqiuTn_WkkMr",
        "colab_type": "code",
        "colab": {}
      },
      "source": [
        "# Null values are present\n",
        "# Replacing null values with mean\n",
        "data.fillna(data.mean(), inplace=True)"
      ],
      "execution_count": 0,
      "outputs": []
    },
    {
      "cell_type": "code",
      "metadata": {
        "id": "ivaTDVnukjpB",
        "colab_type": "code",
        "outputId": "7c6c61cd-d868-413e-d3eb-c4d3ac49df5c",
        "colab": {
          "base_uri": "https://localhost:8080/",
          "height": 570
        }
      },
      "source": [
        "# No null values\n",
        "data.isnull().sum()"
      ],
      "execution_count": 9,
      "outputs": [
        {
          "output_type": "execute_result",
          "data": {
            "text/plain": [
              "Time      0\n",
              "V1        0\n",
              "V2        0\n",
              "V3        0\n",
              "V4        0\n",
              "V5        0\n",
              "V6        0\n",
              "V7        0\n",
              "V8        0\n",
              "V9        0\n",
              "V10       0\n",
              "V11       0\n",
              "V12       0\n",
              "V13       0\n",
              "V14       0\n",
              "V15       0\n",
              "V16       0\n",
              "V17       0\n",
              "V18       0\n",
              "V19       0\n",
              "V20       0\n",
              "V21       0\n",
              "V22       0\n",
              "V23       0\n",
              "V24       0\n",
              "V25       0\n",
              "V26       0\n",
              "V27       0\n",
              "V28       0\n",
              "Amount    0\n",
              "Class     0\n",
              "dtype: int64"
            ]
          },
          "metadata": {
            "tags": []
          },
          "execution_count": 9
        }
      ]
    },
    {
      "cell_type": "code",
      "metadata": {
        "id": "H6Iambu3mNOc",
        "colab_type": "code",
        "outputId": "80931b97-8692-45b3-bb2e-f089e83cbef0",
        "colab": {
          "base_uri": "https://localhost:8080/",
          "height": 312
        }
      },
      "source": [
        "# 'Class' is the target variable\n",
        "# It has two values counts - Fraud and Non-fraud\n",
        "# Plot showing the counts of both counts\n",
        "# Most of them are Non-fraud\n",
        "# This is an unbalanced dataset\n",
        "\n",
        "count_classes = pd.value_counts(data['Class'], sort=True)\n",
        "count_classes.plot(kind='bar', rot=0)\n",
        "plt.title('Non-Fraud vs Fraud Transactions')\n",
        "plt.xticks(range(2), ['Non-Fraud', 'Fraud'])\n",
        "plt.xlabel('Class')\n",
        "plt.ylabel('Frequency')"
      ],
      "execution_count": 0,
      "outputs": [
        {
          "output_type": "execute_result",
          "data": {
            "text/plain": [
              "Text(0, 0.5, 'Frequency')"
            ]
          },
          "metadata": {
            "tags": []
          },
          "execution_count": 28
        },
        {
          "output_type": "display_data",
          "data": {
            "image/png": "[encoded data removed]",
            "text/plain": [
              "<Figure size 432x288 with 1 Axes>"
            ]
          },
          "metadata": {
            "tags": [],
            "needs_background": "light"
          }
        }
      ]
    },
    {
      "cell_type": "code",
      "metadata": {
        "id": "L6CgBnd0mR2C",
        "colab_type": "code",
        "outputId": "320cb7f1-e611-4855-958d-e91ea44bd705",
        "colab": {
          "base_uri": "https://localhost:8080/",
          "height": 1076
        }
      },
      "source": [
        "# Plotting a histogram for each attribute\n",
        "data.hist(figsize=(20,20));"
      ],
      "execution_count": 0,
      "outputs": [
        {
          "output_type": "display_data",
          "data": {
            "image/png": "[encoded data removed]",
            "text/plain": [
              "<Figure size 1440x1440 with 36 Axes>"
            ]
          },
          "metadata": {
            "tags": [],
            "needs_background": "light"
          }
        }
      ]
    },
    {
      "cell_type": "code",
      "metadata": {
        "id": "YTZidMRGmR9q",
        "colab_type": "code",
        "outputId": "7ff7a828-8516-42a0-d55c-a8095cec7c51",
        "colab": {
          "base_uri": "https://localhost:8080/",
          "height": 69
        }
      },
      "source": [
        "# Finding exact number of Fraud and Non-fraud values\n",
        "# Fraud percentage is less than 1% of total transactions\n",
        "\n",
        "fraud = data[data['Class'] == 1]\n",
        "normal = data[data['Class'] == 0]\n",
        "\n",
        "print('Fraud shape: {}'.format(fraud.shape))\n",
        "print('Non-Fraud shape: {}'.format(normal.shape))\n",
        "print('Percentage of fraud transcation: {:.4f}%'.format(len(fraud)/len(normal) * 100))"
      ],
      "execution_count": 0,
      "outputs": [
        {
          "output_type": "stream",
          "text": [
            "Fraud shape: (148, 31)\n",
            "Non-Fraud shape: (49461, 31)\n",
            "Percentage of fraud transcation: 0.2992%\n"
          ],
          "name": "stdout"
        }
      ]
    },
    {
      "cell_type": "code",
      "metadata": {
        "id": "1nND5vdamSHy",
        "colab_type": "code",
        "outputId": "2661804b-b257-423b-cd83-425dfeb80fcd",
        "colab": {
          "base_uri": "https://localhost:8080/",
          "height": 173
        }
      },
      "source": [
        "# Summary of Fraud transactions\n",
        "fraud.Amount.describe()"
      ],
      "execution_count": 0,
      "outputs": [
        {
          "output_type": "execute_result",
          "data": {
            "text/plain": [
              "count     148.000000\n",
              "mean      100.170676\n",
              "std       233.347471\n",
              "min         0.000000\n",
              "25%         1.000000\n",
              "50%         9.560000\n",
              "75%        99.990000\n",
              "max      1809.680000\n",
              "Name: Amount, dtype: float64"
            ]
          },
          "metadata": {
            "tags": []
          },
          "execution_count": 23
        }
      ]
    },
    {
      "cell_type": "code",
      "metadata": {
        "id": "6OYOGFXqmSXO",
        "colab_type": "code",
        "outputId": "0a7c94ae-6595-4047-89e9-5f03815afabe",
        "colab": {
          "base_uri": "https://localhost:8080/",
          "height": 173
        }
      },
      "source": [
        "# Summary of Normal transactions\n",
        "normal.Amount.describe()"
      ],
      "execution_count": 0,
      "outputs": [
        {
          "output_type": "execute_result",
          "data": {
            "text/plain": [
              "count    49461.000000\n",
              "mean        93.099593\n",
              "std        253.325102\n",
              "min          0.000000\n",
              "25%          7.680000\n",
              "50%         25.000000\n",
              "75%         85.000000\n",
              "max      12910.930000\n",
              "Name: Amount, dtype: float64"
            ]
          },
          "metadata": {
            "tags": []
          },
          "execution_count": 24
        }
      ]
    },
    {
      "cell_type": "code",
      "metadata": {
        "id": "MAE8ntq-mZHi",
        "colab_type": "code",
        "outputId": "d9209339-eec5-44f8-bf46-a60eea93e6ed",
        "colab": {
          "base_uri": "https://localhost:8080/",
          "height": 370
        }
      },
      "source": [
        "# Plot for showing the amount for both classes\n",
        "fig, (ax1, ax2) = plt.subplots(2, 1, sharex=True, figsize=(10,5))\n",
        "fig.suptitle('Amount per transaction by Class')\n",
        "ax1.hist(fraud.Amount, bins=50)\n",
        "ax1.set_title('Fraud')\n",
        "ax2.hist(normal.Amount, bins=50)\n",
        "ax2.set_title('Non-Fraud')\n",
        "plt.xlabel('Amount')\n",
        "plt.ylabel('No of Transactions')\n",
        "plt.xlim(0, 20000)\n",
        "plt.yscale('log')"
      ],
      "execution_count": 0,
      "outputs": [
        {
          "output_type": "display_data",
          "data": {
            "image/png": "[encoded data removed]",
            "text/plain": [
              "<Figure size 720x360 with 2 Axes>"
            ]
          },
          "metadata": {
            "tags": [],
            "needs_background": "light"
          }
        }
      ]
    },
    {
      "cell_type": "code",
      "metadata": {
        "id": "Sd0Nb47EmZEv",
        "colab_type": "code",
        "outputId": "7c00b6a2-b575-40fb-de41-36162b987d89",
        "colab": {
          "base_uri": "https://localhost:8080/",
          "height": 370
        }
      },
      "source": [
        "# Plot for Fraud and Normal transcations over time intervals\n",
        "fig, (ax1, ax2) = plt.subplots(2, 1, sharex=True, figsize=(10,5))\n",
        "fig.suptitle('Time of Transaction vs Amount')\n",
        "ax1.scatter(fraud.Time, fraud.Amount)\n",
        "ax1.set_title('Fraud')\n",
        "ax2.scatter(normal.Time, normal.Amount)\n",
        "ax2.set_title('Non-Fraud')\n",
        "plt.xlabel('Time in seconds')\n",
        "plt.ylabel('Amount')\n",
        "plt.show()"
      ],
      "execution_count": 0,
      "outputs": [
        {
          "output_type": "display_data",
          "data": {
            "image/png": "[encoded data removed]",
            "text/plain": [
              "<Figure size 720x360 with 2 Axes>"
            ]
          },
          "metadata": {
            "tags": [],
            "needs_background": "light"
          }
        }
      ]
    },
    {
      "cell_type": "code",
      "metadata": {
        "id": "hnvOHoa5mZBf",
        "colab_type": "code",
        "outputId": "bb2ed371-5ad5-476c-ba9f-5bf3ad974b3d",
        "colab": {
          "base_uri": "https://localhost:8080/",
          "height": 587
        }
      },
      "source": [
        "# Heatmap to find any correlation between attributes\n",
        "corr_matrix = data.corr()\n",
        "fig = plt.figure(figsize=(12,9))\n",
        "sns.heatmap(corr_matrix, vmax=8, square=True)"
      ],
      "execution_count": 0,
      "outputs": [
        {
          "output_type": "execute_result",
          "data": {
            "text/plain": [
              "<matplotlib.axes._subplots.AxesSubplot at 0x7f2468830e48>"
            ]
          },
          "metadata": {
            "tags": []
          },
          "execution_count": 27
        },
        {
          "output_type": "display_data",
          "data": {
            "image/png": "[encoded data removed]",
            "text/plain": [
              "<Figure size 864x648 with 2 Axes>"
            ]
          },
          "metadata": {
            "tags": [],
            "needs_background": "light"
          }
        }
      ]
    },
    {
      "cell_type": "markdown",
      "metadata": {
        "id": "m8iivPbWmpGi",
        "colab_type": "text"
      },
      "source": [
        "\n",
        "\n",
        "---\n",
        "\n",
        "> APPLYING TRANSFORMATION ON DATA\n",
        "\n",
        "---\n",
        "\n"
      ]
    },
    {
      "cell_type": "code",
      "metadata": {
        "id": "owdnd_oXLl3Z",
        "colab_type": "code",
        "colab": {}
      },
      "source": [
        "# The columns from 'V1' to 'V28' are alread normalized\n",
        "# Applying scaling on the 'Time' and 'Amount' attributes\n",
        "# Using RobustScaler as its less prone to outliers\n",
        "# and we need to detect outliers\n",
        "\n",
        "rob_scaler = RobustScaler()\n",
        "\n",
        "data['Scaled_time'] = rob_scaler.fit_transform(data['Time'].values.reshape(-1, 1))\n",
        "data['Scaled_amount'] = rob_scaler.fit_transform(data['Amount'].values.reshape(-1, 1))\n",
        "\n",
        "data.drop(['Time', 'Amount'], axis=1, inplace=True)"
      ],
      "execution_count": 0,
      "outputs": []
    },
    {
      "cell_type": "code",
      "metadata": {
        "id": "SI7wEg6np8Ay",
        "colab_type": "code",
        "outputId": "e0f82633-06c0-4bef-e94c-ad4bb2d5ccbe",
        "colab": {
          "base_uri": "https://localhost:8080/",
          "height": 218
        }
      },
      "source": [
        "# Adding and removing columns\n",
        "\n",
        "scaled_amount = data['Scaled_amount']\n",
        "scaled_time = data['Scaled_time']\n",
        "\n",
        "data.drop(['Scaled_amount', 'Scaled_time'], axis=1, inplace=True)\n",
        "data.insert(0, 'Scaled_amount', scaled_amount)\n",
        "data.insert(1, 'Scaled_time', scaled_time)\n",
        "\n",
        "# Amount and Time are Scaled!\n",
        "data.head()"
      ],
      "execution_count": 13,
      "outputs": [
        {
          "output_type": "execute_result",
          "data": {
            "text/html": [
              "<div>\n",
              "<style scoped>\n",
              "    .dataframe tbody tr th:only-of-type {\n",
              "        vertical-align: middle;\n",
              "    }\n",
              "\n",
              "    .dataframe tbody tr th {\n",
              "        vertical-align: top;\n",
              "    }\n",
              "\n",
              "    .dataframe thead th {\n",
              "        text-align: right;\n",
              "    }\n",
              "</style>\n",
              "<table border=\"1\" class=\"dataframe\">\n",
              "  <thead>\n",
              "    <tr style=\"text-align: right;\">\n",
              "      <th></th>\n",
              "      <th>Scaled_amount</th>\n",
              "      <th>Scaled_time</th>\n",
              "      <th>V1</th>\n",
              "      <th>V2</th>\n",
              "      <th>V3</th>\n",
              "      <th>V4</th>\n",
              "      <th>V5</th>\n",
              "      <th>V6</th>\n",
              "      <th>V7</th>\n",
              "      <th>V8</th>\n",
              "      <th>V9</th>\n",
              "      <th>V10</th>\n",
              "      <th>V11</th>\n",
              "      <th>V12</th>\n",
              "      <th>V13</th>\n",
              "      <th>V14</th>\n",
              "      <th>V15</th>\n",
              "      <th>V16</th>\n",
              "      <th>V17</th>\n",
              "      <th>V18</th>\n",
              "      <th>V19</th>\n",
              "      <th>V20</th>\n",
              "      <th>V21</th>\n",
              "      <th>V22</th>\n",
              "      <th>V23</th>\n",
              "      <th>V24</th>\n",
              "      <th>V25</th>\n",
              "      <th>V26</th>\n",
              "      <th>V27</th>\n",
              "      <th>V28</th>\n",
              "      <th>Class</th>\n",
              "    </tr>\n",
              "  </thead>\n",
              "  <tbody>\n",
              "    <tr>\n",
              "      <th>0</th>\n",
              "      <td>1.488894</td>\n",
              "      <td>-2.045837</td>\n",
              "      <td>-1.359807</td>\n",
              "      <td>-0.072781</td>\n",
              "      <td>2.536347</td>\n",
              "      <td>1.378155</td>\n",
              "      <td>-0.338321</td>\n",
              "      <td>0.462388</td>\n",
              "      <td>0.239599</td>\n",
              "      <td>0.098698</td>\n",
              "      <td>0.363787</td>\n",
              "      <td>0.090794</td>\n",
              "      <td>-0.551600</td>\n",
              "      <td>-0.617801</td>\n",
              "      <td>-0.991390</td>\n",
              "      <td>-0.311169</td>\n",
              "      <td>1.468177</td>\n",
              "      <td>-0.470401</td>\n",
              "      <td>0.207971</td>\n",
              "      <td>0.025791</td>\n",
              "      <td>0.403993</td>\n",
              "      <td>0.251412</td>\n",
              "      <td>-0.018307</td>\n",
              "      <td>0.277838</td>\n",
              "      <td>-0.110474</td>\n",
              "      <td>0.066928</td>\n",
              "      <td>0.128539</td>\n",
              "      <td>-0.189115</td>\n",
              "      <td>0.133558</td>\n",
              "      <td>-0.021053</td>\n",
              "      <td>0.0</td>\n",
              "    </tr>\n",
              "    <tr>\n",
              "      <th>1</th>\n",
              "      <td>-0.294453</td>\n",
              "      <td>-2.045837</td>\n",
              "      <td>1.191857</td>\n",
              "      <td>0.266151</td>\n",
              "      <td>0.166480</td>\n",
              "      <td>0.448154</td>\n",
              "      <td>0.060018</td>\n",
              "      <td>-0.082361</td>\n",
              "      <td>-0.078803</td>\n",
              "      <td>0.085102</td>\n",
              "      <td>-0.255425</td>\n",
              "      <td>-0.166974</td>\n",
              "      <td>1.612727</td>\n",
              "      <td>1.065235</td>\n",
              "      <td>0.489095</td>\n",
              "      <td>-0.143772</td>\n",
              "      <td>0.635558</td>\n",
              "      <td>0.463917</td>\n",
              "      <td>-0.114805</td>\n",
              "      <td>-0.183361</td>\n",
              "      <td>-0.145783</td>\n",
              "      <td>-0.069083</td>\n",
              "      <td>-0.225775</td>\n",
              "      <td>-0.638672</td>\n",
              "      <td>0.101288</td>\n",
              "      <td>-0.339846</td>\n",
              "      <td>0.167170</td>\n",
              "      <td>0.125895</td>\n",
              "      <td>-0.008983</td>\n",
              "      <td>0.014724</td>\n",
              "      <td>0.0</td>\n",
              "    </tr>\n",
              "    <tr>\n",
              "      <th>2</th>\n",
              "      <td>4.268843</td>\n",
              "      <td>-2.045789</td>\n",
              "      <td>-1.358354</td>\n",
              "      <td>-1.340163</td>\n",
              "      <td>1.773209</td>\n",
              "      <td>0.379780</td>\n",
              "      <td>-0.503198</td>\n",
              "      <td>1.800499</td>\n",
              "      <td>0.791461</td>\n",
              "      <td>0.247676</td>\n",
              "      <td>-1.514654</td>\n",
              "      <td>0.207643</td>\n",
              "      <td>0.624501</td>\n",
              "      <td>0.066084</td>\n",
              "      <td>0.717293</td>\n",
              "      <td>-0.165946</td>\n",
              "      <td>2.345865</td>\n",
              "      <td>-2.890083</td>\n",
              "      <td>1.109969</td>\n",
              "      <td>-0.121359</td>\n",
              "      <td>-2.261857</td>\n",
              "      <td>0.524980</td>\n",
              "      <td>0.247998</td>\n",
              "      <td>0.771679</td>\n",
              "      <td>0.909412</td>\n",
              "      <td>-0.689281</td>\n",
              "      <td>-0.327642</td>\n",
              "      <td>-0.139097</td>\n",
              "      <td>-0.055353</td>\n",
              "      <td>-0.059752</td>\n",
              "      <td>0.0</td>\n",
              "    </tr>\n",
              "    <tr>\n",
              "      <th>3</th>\n",
              "      <td>1.171866</td>\n",
              "      <td>-2.045789</td>\n",
              "      <td>-0.966272</td>\n",
              "      <td>-0.185226</td>\n",
              "      <td>1.792993</td>\n",
              "      <td>-0.863291</td>\n",
              "      <td>-0.010309</td>\n",
              "      <td>1.247203</td>\n",
              "      <td>0.237609</td>\n",
              "      <td>0.377436</td>\n",
              "      <td>-1.387024</td>\n",
              "      <td>-0.054952</td>\n",
              "      <td>-0.226487</td>\n",
              "      <td>0.178228</td>\n",
              "      <td>0.507757</td>\n",
              "      <td>-0.287924</td>\n",
              "      <td>-0.631418</td>\n",
              "      <td>-1.059647</td>\n",
              "      <td>-0.684093</td>\n",
              "      <td>1.965775</td>\n",
              "      <td>-1.232622</td>\n",
              "      <td>-0.208038</td>\n",
              "      <td>-0.108300</td>\n",
              "      <td>0.005274</td>\n",
              "      <td>-0.190321</td>\n",
              "      <td>-1.175575</td>\n",
              "      <td>0.647376</td>\n",
              "      <td>-0.221929</td>\n",
              "      <td>0.062723</td>\n",
              "      <td>0.061458</td>\n",
              "      <td>0.0</td>\n",
              "    </tr>\n",
              "    <tr>\n",
              "      <th>4</th>\n",
              "      <td>0.522393</td>\n",
              "      <td>-2.045741</td>\n",
              "      <td>-1.158233</td>\n",
              "      <td>0.877737</td>\n",
              "      <td>1.548718</td>\n",
              "      <td>0.403034</td>\n",
              "      <td>-0.407193</td>\n",
              "      <td>0.095921</td>\n",
              "      <td>0.592941</td>\n",
              "      <td>-0.270533</td>\n",
              "      <td>0.817739</td>\n",
              "      <td>0.753074</td>\n",
              "      <td>-0.822843</td>\n",
              "      <td>0.538196</td>\n",
              "      <td>1.345852</td>\n",
              "      <td>-1.119670</td>\n",
              "      <td>0.175121</td>\n",
              "      <td>-0.451449</td>\n",
              "      <td>-0.237033</td>\n",
              "      <td>-0.038195</td>\n",
              "      <td>0.803487</td>\n",
              "      <td>0.408542</td>\n",
              "      <td>-0.009431</td>\n",
              "      <td>0.798278</td>\n",
              "      <td>-0.137458</td>\n",
              "      <td>0.141267</td>\n",
              "      <td>-0.206010</td>\n",
              "      <td>0.502292</td>\n",
              "      <td>0.219422</td>\n",
              "      <td>0.215153</td>\n",
              "      <td>0.0</td>\n",
              "    </tr>\n",
              "  </tbody>\n",
              "</table>\n",
              "</div>"
            ],
            "text/plain": [
              "   Scaled_amount  Scaled_time        V1  ...       V27       V28  Class\n",
              "0       1.488894    -2.045837 -1.359807  ...  0.133558 -0.021053    0.0\n",
              "1      -0.294453    -2.045837  1.191857  ... -0.008983  0.014724    0.0\n",
              "2       4.268843    -2.045789 -1.358354  ... -0.055353 -0.059752    0.0\n",
              "3       1.171866    -2.045789 -0.966272  ...  0.062723  0.061458    0.0\n",
              "4       0.522393    -2.045741 -1.158233  ...  0.219422  0.215153    0.0\n",
              "\n",
              "[5 rows x 31 columns]"
            ]
          },
          "metadata": {
            "tags": []
          },
          "execution_count": 13
        }
      ]
    },
    {
      "cell_type": "code",
      "metadata": {
        "id": "Qh4lD9zrp9pH",
        "colab_type": "code",
        "colab": {}
      },
      "source": [
        "# Splitting of data for model\n",
        "# X - Predictor variable\n",
        "# y - Target variable\n",
        "\n",
        "X = data.iloc[:,:-1]\n",
        "y = data[['Class']]"
      ],
      "execution_count": 0,
      "outputs": []
    },
    {
      "cell_type": "code",
      "metadata": {
        "id": "0clCWoKXp_bB",
        "colab_type": "code",
        "colab": {
          "base_uri": "https://localhost:8080/",
          "height": 52
        },
        "outputId": "704e0096-aab3-40c4-c758-2e192a95ce16"
      },
      "source": [
        "# Splitting into train and test values\n",
        "\n",
        "X_train, X_test, y_train, y_test = train_test_split(X, y, test_size=.2, random_state=42)\n",
        "print('X_train shape: {}'.format(X_train.shape))\n",
        "print('X_test shape: {}'.format(X_test.shape))"
      ],
      "execution_count": 66,
      "outputs": [
        {
          "output_type": "stream",
          "text": [
            "X_train shape: (74544, 30)\n",
            "X_test shape: (18637, 30)\n"
          ],
          "name": "stdout"
        }
      ]
    },
    {
      "cell_type": "markdown",
      "metadata": {
        "id": "D70v5XPDmwbP",
        "colab_type": "text"
      },
      "source": [
        "\n",
        "\n",
        "---\n",
        "\n",
        "> TRAINING THE MODELS\n",
        "\n",
        "---\n",
        "\n"
      ]
    },
    {
      "cell_type": "code",
      "metadata": {
        "id": "tfQWgNWOqA0U",
        "colab_type": "code",
        "colab": {}
      },
      "source": [
        "# This is a classification task\n",
        "# We will use the following models\n",
        "\n",
        "classifiers = {\n",
        "    'LogisticRegression': LogisticRegression(),\n",
        "    'RandomForestClassifier': RandomForestClassifier(),\n",
        "    'AdaBoostClassifier': AdaBoostClassifier(),\n",
        "    'DecisionTreeClassifier': DecisionTreeClassifier(),\n",
        "    'SVC': SVC(),\n",
        "    'MLPClassifier': MLPClassifier(),\n",
        "    'KNeighborsClassifier': KNeighborsClassifier(),\n",
        "    'XGBClassifier': XGBClassifier()\n",
        "}"
      ],
      "execution_count": 0,
      "outputs": []
    },
    {
      "cell_type": "code",
      "metadata": {
        "id": "SHghIq2fqCUO",
        "colab_type": "code",
        "outputId": "f9e08050-d998-437c-bf0e-1eb31224f24e",
        "colab": {
          "base_uri": "https://localhost:8080/",
          "height": 2834
        }
      },
      "source": [
        "# Function to train model and do predictions\n",
        "# We want a model with high recall as to detect outliers - Fraud transcations\n",
        "\n",
        "precision = []\n",
        "recall = []\n",
        "\n",
        "for name, clf in classifiers.items():\n",
        "    start = time.time()\n",
        "    name = clf.fit(X_train, y_train)\n",
        "    end = time.time()\n",
        "    y_pred = name.predict(X_test)\n",
        "    \n",
        "    print('****************************************************************************************')\n",
        "    print('\\nModel: {}'.format(name))\n",
        "    print('\\nTime taken: {:.2f}min'.format((end-start)/60))\n",
        "    print('\\nTrainig Accuracy: {:.2f}%'.format(name.score(X_train, y_train)*100))\n",
        "    print('\\nTest Accuracy: {:.2f}%'.format(name.score(X_test, y_test)*100))\n",
        "    #print('\\nConfusion Matrix: \\n')\n",
        "    #print(confusion_matrix(y_test, y_pred))\n",
        "    print('\\nPrecision Score: {:.3f}'.format(precision_score(y_test, y_pred)))\n",
        "    print('\\nRecall Score: {:.3f}'.format(recall_score(y_test, y_pred)))\n",
        "    precision.append(precision_score(y_test, y_pred))\n",
        "    recall.append(recall_score(y_test, y_pred))\n",
        "    print('\\n')\n",
        "    print('*****************************************************************************************')\n",
        "    \n",
        "# i = recall.index(max(recall))\n",
        "# print('\\nModel with best recall: {}'.format(classifiers[i]))\n",
        "# print('\\nRecall: {}, Precision: {}'.format(recall[i], precision[i]))"
      ],
      "execution_count": 0,
      "outputs": [
        {
          "output_type": "stream",
          "text": [
            "****************************************************************************************\n",
            "\n",
            "Model: LogisticRegression(C=1.0, class_weight=None, dual=False, fit_intercept=True,\n",
            "                   intercept_scaling=1, l1_ratio=None, max_iter=100,\n",
            "                   multi_class='auto', n_jobs=None, penalty='l2',\n",
            "                   random_state=None, solver='lbfgs', tol=0.0001, verbose=0,\n",
            "                   warm_start=False)\n",
            "\n",
            "Time taken: 0.01min\n",
            "\n",
            "Trainig Accuracy: 99.87%\n",
            "\n",
            "Test Accuracy: 99.82%\n",
            "\n",
            "Precision Score: 0.692\n",
            "\n",
            "Recall Score: 0.692\n",
            "\n",
            "\n",
            "*****************************************************************************************\n",
            "****************************************************************************************\n",
            "\n",
            "Model: RandomForestClassifier(bootstrap=True, ccp_alpha=0.0, class_weight=None,\n",
            "                       criterion='gini', max_depth=None, max_features='auto',\n",
            "                       max_leaf_nodes=None, max_samples=None,\n",
            "                       min_impurity_decrease=0.0, min_impurity_split=None,\n",
            "                       min_samples_leaf=1, min_samples_split=2,\n",
            "                       min_weight_fraction_leaf=0.0, n_estimators=100,\n",
            "                       n_jobs=None, oob_score=False, random_state=None,\n",
            "                       verbose=0, warm_start=False)\n",
            "\n",
            "Time taken: 0.09min\n",
            "\n",
            "Trainig Accuracy: 100.00%\n",
            "\n",
            "Test Accuracy: 99.93%\n",
            "\n",
            "Precision Score: 0.917\n",
            "\n",
            "Recall Score: 0.846\n",
            "\n",
            "\n",
            "*****************************************************************************************\n",
            "****************************************************************************************\n",
            "\n",
            "Model: AdaBoostClassifier(algorithm='SAMME.R', base_estimator=None, learning_rate=1.0,\n",
            "                   n_estimators=50, random_state=None)\n",
            "\n",
            "Time taken: 0.07min\n",
            "\n",
            "Trainig Accuracy: 100.00%\n",
            "\n",
            "Test Accuracy: 99.89%\n",
            "\n",
            "Precision Score: 0.900\n",
            "\n",
            "Recall Score: 0.692\n",
            "\n",
            "\n",
            "*****************************************************************************************\n",
            "****************************************************************************************\n",
            "\n",
            "Model: DecisionTreeClassifier(ccp_alpha=0.0, class_weight=None, criterion='gini',\n",
            "                       max_depth=None, max_features=None, max_leaf_nodes=None,\n",
            "                       min_impurity_decrease=0.0, min_impurity_split=None,\n",
            "                       min_samples_leaf=1, min_samples_split=2,\n",
            "                       min_weight_fraction_leaf=0.0, presort='deprecated',\n",
            "                       random_state=None, splitter='best')\n",
            "\n",
            "Time taken: 0.01min\n",
            "\n",
            "Trainig Accuracy: 100.00%\n",
            "\n",
            "Test Accuracy: 99.89%\n",
            "\n",
            "Precision Score: 0.833\n",
            "\n",
            "Recall Score: 0.769\n",
            "\n",
            "\n",
            "*****************************************************************************************\n",
            "****************************************************************************************\n",
            "\n",
            "Model: SVC(C=1.0, break_ties=False, cache_size=200, class_weight=None, coef0=0.0,\n",
            "    decision_function_shape='ovr', degree=3, gamma='scale', kernel='rbf',\n",
            "    max_iter=-1, probability=False, random_state=None, shrinking=True,\n",
            "    tol=0.001, verbose=False)\n",
            "\n",
            "Time taken: 0.01min\n",
            "\n",
            "Trainig Accuracy: 99.95%\n",
            "\n",
            "Test Accuracy: 99.86%\n",
            "\n",
            "Precision Score: 0.889\n",
            "\n",
            "Recall Score: 0.615\n",
            "\n",
            "\n",
            "*****************************************************************************************\n",
            "****************************************************************************************\n",
            "\n",
            "Model: MLPClassifier(activation='relu', alpha=0.0001, batch_size='auto', beta_1=0.9,\n",
            "              beta_2=0.999, early_stopping=False, epsilon=1e-08,\n",
            "              hidden_layer_sizes=(100,), learning_rate='constant',\n",
            "              learning_rate_init=0.001, max_fun=15000, max_iter=200,\n",
            "              momentum=0.9, n_iter_no_change=10, nesterovs_momentum=True,\n",
            "              power_t=0.5, random_state=None, shuffle=True, solver='adam',\n",
            "              tol=0.0001, validation_fraction=0.1, verbose=False,\n",
            "              warm_start=False)\n",
            "\n",
            "Time taken: 0.11min\n",
            "\n",
            "Trainig Accuracy: 99.97%\n",
            "\n",
            "Test Accuracy: 99.91%\n",
            "\n",
            "Precision Score: 0.846\n",
            "\n",
            "Recall Score: 0.846\n",
            "\n",
            "\n",
            "*****************************************************************************************\n",
            "****************************************************************************************\n",
            "\n",
            "Model: KNeighborsClassifier(algorithm='auto', leaf_size=30, metric='minkowski',\n",
            "                     metric_params=None, n_jobs=None, n_neighbors=5, p=2,\n",
            "                     weights='uniform')\n",
            "\n",
            "Time taken: 0.00min\n",
            "\n",
            "Trainig Accuracy: 99.91%\n",
            "\n",
            "Test Accuracy: 99.89%\n",
            "\n",
            "Precision Score: 0.833\n",
            "\n",
            "Recall Score: 0.769\n",
            "\n",
            "\n",
            "*****************************************************************************************\n",
            "****************************************************************************************\n",
            "\n",
            "Model: XGBClassifier(base_score=0.5, booster='gbtree', colsample_bylevel=1,\n",
            "              colsample_bynode=1, colsample_bytree=1, gamma=0,\n",
            "              learning_rate=0.1, max_delta_step=0, max_depth=3,\n",
            "              min_child_weight=1, missing=None, n_estimators=100, n_jobs=1,\n",
            "              nthread=None, objective='binary:logistic', random_state=0,\n",
            "              reg_alpha=0, reg_lambda=1, scale_pos_weight=1, seed=None,\n",
            "              silent=None, subsample=1, verbosity=1)\n",
            "\n",
            "Time taken: 0.05min\n",
            "\n",
            "Trainig Accuracy: 100.00%\n",
            "\n",
            "Test Accuracy: 99.91%\n",
            "\n",
            "Precision Score: 0.909\n",
            "\n",
            "Recall Score: 0.769\n",
            "\n",
            "\n",
            "*****************************************************************************************\n"
          ],
          "name": "stdout"
        }
      ]
    },
    {
      "cell_type": "code",
      "metadata": {
        "id": "YAY9VeiBqD5A",
        "colab_type": "code",
        "outputId": "4c802395-253f-4514-868d-a6c1c6eeed32",
        "colab": {
          "base_uri": "https://localhost:8080/",
          "height": 155
        }
      },
      "source": [
        "# Wow our scores are getting even high scores even when applying cross validation.\n",
        "\n",
        "for key, classifier in classifiers.items():\n",
        "    classifier.fit(X_train, y_train)\n",
        "    training_score = cross_val_score(classifier, X_train, y_train, cv=5)\n",
        "    print(classifier.__class__.__name__, \": \", round(training_score.mean(), 2) * 100, \"% accuracy score\")"
      ],
      "execution_count": 0,
      "outputs": [
        {
          "output_type": "stream",
          "text": [
            "LogisticRegression :  100.0 % accuracy score\n",
            "RandomForestClassifier :  100.0 % accuracy score\n",
            "AdaBoostClassifier :  100.0 % accuracy score\n",
            "DecisionTreeClassifier :  100.0 % accuracy score\n",
            "SVC :  100.0 % accuracy score\n",
            "MLPClassifier :  100.0 % accuracy score\n",
            "KNeighborsClassifier :  100.0 % accuracy score\n",
            "XGBClassifier :  100.0 % accuracy score\n"
          ],
          "name": "stdout"
        }
      ]
    },
    {
      "cell_type": "code",
      "metadata": {
        "id": "nv4HgaCasN31",
        "colab_type": "code",
        "colab": {}
      },
      "source": [
        "# Use GridSearchCV to find the best parameters.\n",
        "\n",
        "\n",
        "# Logistic Regression \n",
        "log_reg_params = {\"penalty\": ['l1', 'l2'], 'C': [0.001, 0.01, 0.1, 1, 10, 100, 1000]}\n",
        "grid_log_reg = GridSearchCV(LogisticRegression(), log_reg_params)\n",
        "grid_log_reg.fit(X_train, y_train)\n",
        "# We automatically get the logistic regression with the best parameters.\n",
        "log_reg = grid_log_reg.best_estimator_\n",
        "\n",
        "\n",
        "# K-Nears\n",
        "knears_params = {\"n_neighbors\": list(range(2,5,1)), 'algorithm': ['auto', 'ball_tree', 'kd_tree', 'brute']}\n",
        "grid_knears = GridSearchCV(KNeighborsClassifier(), knears_params)\n",
        "grid_knears.fit(X_train, y_train)\n",
        "# KNears best estimator\n",
        "knears_neighbors = grid_knears.best_estimator_\n",
        "\n",
        "\n",
        "# Support Vector Classifier\n",
        "svc_params = {'C': [0.5, 0.7, 0.9, 1], 'kernel': ['rbf', 'poly', 'sigmoid', 'linear']}\n",
        "grid_svc = GridSearchCV(SVC(), svc_params)\n",
        "grid_svc.fit(X_train, y_train)\n",
        "# SVC best estimator\n",
        "svc = grid_svc.best_estimator_\n",
        "\n",
        "\n",
        "# DecisionTree Classifier\n",
        "tree_params = {\"criterion\": [\"gini\", \"entropy\"], \"max_depth\": list(range(2,4,1)), \n",
        "              \"min_samples_leaf\": list(range(5,7,1))}\n",
        "grid_tree = GridSearchCV(DecisionTreeClassifier(), tree_params)\n",
        "grid_tree.fit(X_train, y_train)\n",
        "# tree best estimator\n",
        "tree_clf = grid_tree.best_estimator_\n",
        "\n",
        "# Random\n",
        "random_params =  { \n",
        "    'n_estimators': [200, 500],\n",
        "    'max_features': ['auto', 'sqrt', 'log2'],\n",
        "    'max_depth' : [4,5,6,7,8],\n",
        "    'criterion' :['gini', 'entropy']}\n",
        "grid_random = GridSearchCV(RandomForestClassifier(), random_params)\n",
        "grid_random.fit(X_train, y_train)\n",
        "# random best estimator\n",
        "random_clf = grid_random.best_estimator_\n",
        "\n",
        "# MLP\n",
        "mlp_params = {'solver': ['lbfgs'], \n",
        "              'max_iter': [1000,1100,1200,1300,1400,1500,1600,1700,1800,1900,2000], \n",
        "              'alpha': 10.0 ** -np.arange(1, 10), \n",
        "              'hidden_layer_sizes':np.arange(10, 15)}\n",
        "grid_mlp = GridSearchCV(MLPClassifier(), mlp_params)\n",
        "grid_mlp.fit(X_train, y_train)\n",
        "# random best estimator\n",
        "mlp_clf = grid_mlp.best_estimator_  \n",
        "\n",
        "# Ada\n",
        "ada_params = {'base_estimator__max_depth':[1,50],\n",
        "          'base_estimator':[DecisionTreeClassifier(max_features=2), DecisionTreeClassifier(max_features=10)]}\n",
        "grid_ada = GridSearchCV(AdaBoostClassifier(base_estimator=DecisionTreeClassifier()), ada_params)\n",
        "grid_ada.fit(X_train, y_train)\n",
        "# best\n",
        "ada_clf = grid_ada.best_estimator_"
      ],
      "execution_count": 0,
      "outputs": []
    },
    {
      "cell_type": "code",
      "metadata": {
        "id": "Mhj6AlAIsTi1",
        "colab_type": "code",
        "colab": {}
      },
      "source": [
        "# Now we will train models again with the parameters obtained from\n",
        "# GridSearchCV\n",
        "# Lets see if we can get higher recall values\n",
        "\n",
        "estimators = [log_reg, random_clf, ada_clf ,tree_clf, svc, mlp_clf, knears_neighbors]\n",
        "\n",
        "names = [\"Logistic Regression\", \"Nearest Neighbors\",\n",
        "         \"Decision Tree\", \"Random Forest\", \"Neural Net\", \"AdaBoost\",\n",
        "         \"Naive Bayes\", \"QDA\"]\n",
        "\n",
        "classifiers = [\n",
        "    LogisticRegression(),\n",
        "    RandomForestClassifier(),\n",
        "    AdaBoostClassifier(),\n",
        "    DecisionTreeClassifier(),\n",
        "    SVC(),\n",
        "    MLPClassifier(),\n",
        "    KNeighborsClassifier()]"
      ],
      "execution_count": 0,
      "outputs": []
    },
    {
      "cell_type": "code",
      "metadata": {
        "id": "GfOrVpxCuSGb",
        "colab_type": "code",
        "outputId": "3fe7b410-8e33-4390-88ec-9b3237f43894",
        "colab": {
          "base_uri": "https://localhost:8080/",
          "height": 2765
        }
      },
      "source": [
        "# Function to train model and do predictions, with best parameters\n",
        "precision = []\n",
        "recall = []\n",
        "\n",
        "for name, clf, est in zip(names, classifiers, estimators):\n",
        "    start = time.time()\n",
        "    name = est.fit(X_train, y_train)\n",
        "    end = time.time()\n",
        "    y_pred = name.predict(X_test)\n",
        "    \n",
        "    print('****************************************************************************************')\n",
        "    print('\\nModel: {}'.format(name))\n",
        "    print('\\nTime taken: {:.2f}min'.format((end-start)/60))\n",
        "    print('\\nTrainig Accuracy: {:.2f}%'.format(name.score(X_train, y_train)*100))\n",
        "    print('\\nTest Accuracy: {:.2f}%'.format(name.score(X_test, y_test)*100))\n",
        "    #print('\\nConfusion Matrix: \\n')\n",
        "    #print(confusion_matrix(y_test, y_pred))\n",
        "    print('\\nPrecision Score: {:.3f}'.format(precision_score(y_test, y_pred)))\n",
        "    print('\\nRecall Score: {:.3f}'.format(recall_score(y_test, y_pred)))\n",
        "    precision.append(precision_score(y_test, y_pred))\n",
        "    recall.append(recall_score(y_test, y_pred))\n",
        "    print('\\n')\n",
        "    print('*****************************************************************************************')\n",
        "    \n",
        "i = recall.index(max(recall))\n",
        "print('\\nModel with best recall: {}'.format(names[i]))\n",
        "print('\\nRecall: {}, Precision: {}'.format(recall[i], precision[i]))"
      ],
      "execution_count": 0,
      "outputs": [
        {
          "output_type": "stream",
          "text": [
            "****************************************************************************************\n",
            "\n",
            "Model: LogisticRegression(C=10, class_weight=None, dual=False, fit_intercept=True,\n",
            "                   intercept_scaling=1, l1_ratio=None, max_iter=100,\n",
            "                   multi_class='auto', n_jobs=None, penalty='l2',\n",
            "                   random_state=None, solver='lbfgs', tol=0.0001, verbose=0,\n",
            "                   warm_start=False)\n",
            "\n",
            "Time taken: 0.01min\n",
            "\n",
            "Trainig Accuracy: 99.89%\n",
            "\n",
            "Test Accuracy: 99.84%\n",
            "\n",
            "Precision Score: 0.750\n",
            "\n",
            "Recall Score: 0.692\n",
            "\n",
            "\n",
            "*****************************************************************************************\n",
            "****************************************************************************************\n",
            "\n",
            "Model: RandomForestClassifier(bootstrap=True, ccp_alpha=0.0, class_weight=None,\n",
            "                       criterion='entropy', max_depth=7, max_features='sqrt',\n",
            "                       max_leaf_nodes=None, max_samples=None,\n",
            "                       min_impurity_decrease=0.0, min_impurity_split=None,\n",
            "                       min_samples_leaf=1, min_samples_split=2,\n",
            "                       min_weight_fraction_leaf=0.0, n_estimators=200,\n",
            "                       n_jobs=None, oob_score=False, random_state=None,\n",
            "                       verbose=0, warm_start=False)\n",
            "\n",
            "Time taken: 0.16min\n",
            "\n",
            "Trainig Accuracy: 99.98%\n",
            "\n",
            "Test Accuracy: 99.89%\n",
            "\n",
            "Precision Score: 0.900\n",
            "\n",
            "Recall Score: 0.692\n",
            "\n",
            "\n",
            "*****************************************************************************************\n",
            "****************************************************************************************\n",
            "\n",
            "Model: AdaBoostClassifier(algorithm='SAMME.R',\n",
            "                   base_estimator=DecisionTreeClassifier(ccp_alpha=0.0,\n",
            "                                                         class_weight=None,\n",
            "                                                         criterion='gini',\n",
            "                                                         max_depth=1,\n",
            "                                                         max_features=2,\n",
            "                                                         max_leaf_nodes=None,\n",
            "                                                         min_impurity_decrease=0.0,\n",
            "                                                         min_impurity_split=None,\n",
            "                                                         min_samples_leaf=1,\n",
            "                                                         min_samples_split=2,\n",
            "                                                         min_weight_fraction_leaf=0.0,\n",
            "                                                         presort='deprecated',\n",
            "                                                         random_state=None,\n",
            "                                                         splitter='best'),\n",
            "                   learning_rate=1.0, n_estimators=50, random_state=None)\n",
            "\n",
            "Time taken: 0.01min\n",
            "\n",
            "Trainig Accuracy: 100.00%\n",
            "\n",
            "Test Accuracy: 99.89%\n",
            "\n",
            "Precision Score: 0.900\n",
            "\n",
            "Recall Score: 0.692\n",
            "\n",
            "\n",
            "*****************************************************************************************\n",
            "****************************************************************************************\n",
            "\n",
            "Model: DecisionTreeClassifier(ccp_alpha=0.0, class_weight=None, criterion='gini',\n",
            "                       max_depth=2, max_features=None, max_leaf_nodes=None,\n",
            "                       min_impurity_decrease=0.0, min_impurity_split=None,\n",
            "                       min_samples_leaf=6, min_samples_split=2,\n",
            "                       min_weight_fraction_leaf=0.0, presort='deprecated',\n",
            "                       random_state=None, splitter='best')\n",
            "\n",
            "Time taken: 0.00min\n",
            "\n",
            "Trainig Accuracy: 99.90%\n",
            "\n",
            "Test Accuracy: 99.89%\n",
            "\n",
            "Precision Score: 0.900\n",
            "\n",
            "Recall Score: 0.692\n",
            "\n",
            "\n",
            "*****************************************************************************************\n",
            "****************************************************************************************\n",
            "\n",
            "Model: SVC(C=0.5, break_ties=False, cache_size=200, class_weight=None, coef0=0.0,\n",
            "    decision_function_shape='ovr', degree=3, gamma='scale', kernel='poly',\n",
            "    max_iter=-1, probability=False, random_state=None, shrinking=True,\n",
            "    tol=0.001, verbose=False)\n",
            "\n",
            "Time taken: 0.00min\n",
            "\n",
            "Trainig Accuracy: 99.97%\n",
            "\n",
            "Test Accuracy: 99.93%\n",
            "\n",
            "Precision Score: 0.917\n",
            "\n",
            "Recall Score: 0.846\n",
            "\n",
            "\n",
            "*****************************************************************************************\n",
            "****************************************************************************************\n",
            "\n",
            "Model: MLPClassifier(activation='relu', alpha=0.001, batch_size='auto', beta_1=0.9,\n",
            "              beta_2=0.999, early_stopping=False, epsilon=1e-08,\n",
            "              hidden_layer_sizes=10, learning_rate='constant',\n",
            "              learning_rate_init=0.001, max_fun=15000, max_iter=1600,\n",
            "              momentum=0.9, n_iter_no_change=10, nesterovs_momentum=True,\n",
            "              power_t=0.5, random_state=None, shuffle=True, solver='lbfgs',\n",
            "              tol=0.0001, validation_fraction=0.1, verbose=False,\n",
            "              warm_start=False)\n",
            "\n",
            "Time taken: 0.01min\n",
            "\n",
            "Trainig Accuracy: 100.00%\n",
            "\n",
            "Test Accuracy: 99.93%\n",
            "\n",
            "Precision Score: 0.917\n",
            "\n",
            "Recall Score: 0.846\n",
            "\n",
            "\n",
            "*****************************************************************************************\n",
            "****************************************************************************************\n",
            "\n",
            "Model: KNeighborsClassifier(algorithm='auto', leaf_size=30, metric='minkowski',\n",
            "                     metric_params=None, n_jobs=None, n_neighbors=3, p=2,\n",
            "                     weights='uniform')\n",
            "\n",
            "Time taken: 0.00min\n",
            "\n",
            "Trainig Accuracy: 99.92%\n",
            "\n",
            "Test Accuracy: 99.89%\n",
            "\n",
            "Precision Score: 0.900\n",
            "\n",
            "Recall Score: 0.692\n",
            "\n",
            "\n",
            "*****************************************************************************************\n",
            "\n",
            "Model with best recall: Neural Net\n",
            "\n",
            "Recall: 0.8461538461538461, Precision: 0.9166666666666666\n"
          ],
          "name": "stdout"
        }
      ]
    },
    {
      "cell_type": "code",
      "metadata": {
        "id": "j0qrDyIKLqWw",
        "colab_type": "code",
        "colab": {
          "base_uri": "https://localhost:8080/",
          "height": 104
        },
        "outputId": "f4ee779a-9ea7-44ea-f8b2-4d71c1ece20a"
      },
      "source": [
        "# As Neural net and KNN has same score we will test using both\n",
        "# The better one will be chosen\n",
        "\n",
        "mlp = MLPClassifier(activation='relu', alpha=0.001, batch_size='auto', beta_1=0.9,\n",
        "              beta_2=0.999, early_stopping=False, epsilon=1e-08,\n",
        "              hidden_layer_sizes=10, learning_rate='constant',\n",
        "              learning_rate_init=0.001, max_fun=15000, max_iter=1600,\n",
        "              momentum=0.9, n_iter_no_change=10, nesterovs_momentum=True,\n",
        "              power_t=0.5, random_state=None, shuffle=True, solver='lbfgs',\n",
        "              tol=0.0001, validation_fraction=0.1, verbose=False,\n",
        "              warm_start=False)\n",
        "mlp.fit(X_train, y_train)\n",
        "y_pred_mlp = mlp.predict(X_test)\n",
        "\n",
        "print('Confusion Matrix:\\n',confusion_matrix(y_test.round(), y_pred_mlp.round()))\n",
        "print('Recall score: ',recall_score(y_test.round(),y_pred_mlp.round()))\n",
        "print('Precision score:',precision_score(y_test.round(),y_pred_mlp.round()))"
      ],
      "execution_count": 72,
      "outputs": [
        {
          "output_type": "stream",
          "text": [
            "Confusion Matrix:\n",
            " [[18586     8]\n",
            " [   12    31]]\n",
            "Recall score:  0.7209302325581395\n",
            "Precision score: 0.7948717948717948\n"
          ],
          "name": "stdout"
        }
      ]
    },
    {
      "cell_type": "code",
      "metadata": {
        "id": "nle7S95zSWpr",
        "colab_type": "code",
        "colab": {
          "base_uri": "https://localhost:8080/",
          "height": 104
        },
        "outputId": "d8cea5aa-de0c-4772-e877-fa7bb2c5bf8b"
      },
      "source": [
        "# KNN has lower recall than MLP on test set\n",
        "\n",
        "knn = KNeighborsClassifier(algorithm='auto', leaf_size=30, metric='minkowski',\n",
        "                     metric_params=None, n_jobs=None, n_neighbors=3, p=2,\n",
        "                     weights='uniform')\n",
        "knn.fit(X_train, y_train)\n",
        "y_pred_knn = knn.predict(X_test)\n",
        "\n",
        "print('Confusion Matrix: \\n',confusion_matrix(y_test.round(), y_pred_knn.round()))\n",
        "print('Recall score: ',recall_score(y_test.round(),y_pred_knn.round()))\n",
        "print('Precision score: ',precision_score(y_test.round(),y_pred_knn.round()))"
      ],
      "execution_count": 73,
      "outputs": [
        {
          "output_type": "stream",
          "text": [
            "Confusion Matrix: \n",
            " [[18592     2]\n",
            " [   13    30]]\n",
            "Recall score:  0.6976744186046512\n",
            "Precision score:  0.9375\n"
          ],
          "name": "stdout"
        }
      ]
    },
    {
      "cell_type": "code",
      "metadata": {
        "id": "xKppaUgiXVXm",
        "colab_type": "code",
        "colab": {}
      },
      "source": [
        "# As Neural net has higher recall we will use that and\n",
        "# Prepare submission file\n",
        "\n",
        "output = pd.DataFrame({'Time': X_test.Scaled_time, 'Amount': X_test.Scaled_amount, 'Prediction': y_pred_mlp})\n",
        "output.to_csv('submission.csv', index=False)"
      ],
      "execution_count": 0,
      "outputs": []
    },
    {
      "cell_type": "code",
      "metadata": {
        "id": "ovCiUQdtaF9K",
        "colab_type": "code",
        "colab": {}
      },
      "source": [
        ""
      ],
      "execution_count": 0,
      "outputs": []
    }
  ]
}